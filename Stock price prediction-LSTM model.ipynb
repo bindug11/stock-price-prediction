{
 "cells": [
  {
   "cell_type": "code",
   "execution_count": 1,
   "metadata": {},
   "outputs": [],
   "source": [
    "import numpy as np\n",
    "import tensorflow as tf\n",
    "import random as rn"
   ]
  },
  {
   "cell_type": "code",
   "execution_count": 2,
   "metadata": {},
   "outputs": [],
   "source": [
    "np.random.seed(42) #for starting Numpy generated random numbers in a well-defined initial state.\n",
    "rn.seed(12345)  # for startiong core python generated random numbers in a well-defined initial state.\n",
    "seed = 7\n",
    "# Force TensorFlow\n",
    "# The below tf.set_random_seed() will make random number generation\n",
    "# in the TensorFlow backend have a well-defined initial state.\n",
    "tf.set_random_seed(1234)"
   ]
  },
  {
   "cell_type": "code",
   "execution_count": 3,
   "metadata": {},
   "outputs": [],
   "source": [
    "PYTHONHASHSEED=0 "
   ]
  },
  {
   "cell_type": "code",
   "execution_count": 4,
   "metadata": {},
   "outputs": [],
   "source": [
    "from pandas_datareader import data\n",
    "import matplotlib.pyplot as plt\n",
    "import pandas as pd\n",
    "\n",
    "\n",
    "import pickle"
   ]
  },
  {
   "cell_type": "code",
   "execution_count": 5,
   "metadata": {},
   "outputs": [
    {
     "name": "stderr",
     "output_type": "stream",
     "text": [
      "Using TensorFlow backend.\n"
     ]
    }
   ],
   "source": [
    "from sklearn.model_selection import train_test_split\n",
    "from keras.layers import Dense,Activation,Dropout, LSTM\n",
    "from keras.models import Sequential\n",
    "from keras.losses import mean_squared_error\n",
    "import tensorflow as tf\n",
    "from sklearn.preprocessing import MinMaxScaler\n",
    "from keras.models import load_model\n"
   ]
  },
  {
   "cell_type": "code",
   "execution_count": 6,
   "metadata": {},
   "outputs": [],
   "source": [
    "# We would like all available data from 01/01/2000 until 12/31/2016.\n",
    "start_date = '2014-01-02'\n",
    "end_date = '2019-08-31'\n",
    "\n",
    "# User pandas_reader.data.DataReader to load the desired data. As simple as that.\n",
    "panel_data = data.DataReader('DRT.TO', 'yahoo', start_date, end_date)"
   ]
  },
  {
   "cell_type": "code",
   "execution_count": 7,
   "metadata": {},
   "outputs": [
    {
     "data": {
      "text/plain": [
       "(            High   Low  Open  Close  Volume  Adj Close\n",
       " Date                                                  \n",
       " 2014-01-02  2.60  2.50  2.55   2.55  316600       2.55\n",
       " 2014-01-03  2.70  2.56  2.56   2.70  209300       2.70\n",
       " 2014-01-06  2.97  2.70  2.70   2.96  280600       2.96\n",
       " 2014-01-07  2.97  2.80  2.97   2.87  305700       2.87\n",
       " 2014-01-08  2.94  2.80  2.94   2.85   78300       2.85, (1422, 6))"
      ]
     },
     "execution_count": 7,
     "metadata": {},
     "output_type": "execute_result"
    }
   ],
   "source": [
    "panel_data.head(),panel_data.shape"
   ]
  },
  {
   "cell_type": "code",
   "execution_count": 8,
   "metadata": {},
   "outputs": [],
   "source": [
    "close = panel_data[['Close']]"
   ]
  },
  {
   "cell_type": "code",
   "execution_count": 9,
   "metadata": {},
   "outputs": [
    {
     "data": {
      "text/plain": [
       "(            Close\n",
       " Date             \n",
       " 2014-01-02   2.55\n",
       " 2014-01-03   2.70\n",
       " 2014-01-06   2.96\n",
       " 2014-01-07   2.87\n",
       " 2014-01-08   2.85, Close    2.55\n",
       " Name: 2014-01-02 00:00:00, dtype: float64)"
      ]
     },
     "execution_count": 9,
     "metadata": {},
     "output_type": "execute_result"
    }
   ],
   "source": [
    "close.head(),close.loc['2014-01-02']"
   ]
  },
  {
   "cell_type": "code",
   "execution_count": 10,
   "metadata": {},
   "outputs": [],
   "source": [
    "all_weekdays = pd.date_range(start=start_date, end=end_date, freq='B')\n",
    "close = close.reindex(all_weekdays)\n",
    "close = close.fillna(method='ffill')"
   ]
  },
  {
   "cell_type": "code",
   "execution_count": 11,
   "metadata": {},
   "outputs": [
    {
     "data": {
      "text/plain": [
       "(            Close\n",
       " 2014-01-02   2.55\n",
       " 2014-01-03   2.70\n",
       " 2014-01-06   2.96\n",
       " 2014-01-07   2.87\n",
       " 2014-01-08   2.85, (1477, 1),              Close\n",
       " count  1477.000000\n",
       " mean      5.769631\n",
       " std       1.452100\n",
       " min       2.400000\n",
       " 25%       5.050000\n",
       " 50%       5.950000\n",
       " 75%       6.730000\n",
       " max       9.230000)"
      ]
     },
     "execution_count": 11,
     "metadata": {},
     "output_type": "execute_result"
    }
   ],
   "source": [
    "close.head(),close.shape,close.describe()"
   ]
  },
  {
   "cell_type": "code",
   "execution_count": 12,
   "metadata": {},
   "outputs": [
    {
     "data": {
      "text/plain": [
       "((1304, 1), (174, 1))"
      ]
     },
     "execution_count": 12,
     "metadata": {},
     "output_type": "execute_result"
    }
   ],
   "source": [
    "close_train= close[:'2019-01-01']\n",
    "close_test = close['2019-01-01':]\n",
    "close_train.shape,close_test.shape"
   ]
  },
  {
   "cell_type": "code",
   "execution_count": 13,
   "metadata": {},
   "outputs": [
    {
     "data": {
      "text/plain": [
       "(            Close\n",
       " 2014-01-02   2.55\n",
       " 2014-01-03   2.70\n",
       " 2014-01-06   2.96\n",
       " 2014-01-07   2.87\n",
       " 2014-01-08   2.85,             Close\n",
       " 2014-01-02   2.55\n",
       " 2014-01-03   2.70\n",
       " 2014-01-06   2.96\n",
       " 2014-01-07   2.87\n",
       " 2014-01-08   2.85, Close    2.55\n",
       " Name: 2014-01-02 00:00:00, dtype: float64)"
      ]
     },
     "execution_count": 13,
     "metadata": {},
     "output_type": "execute_result"
    }
   ],
   "source": [
    "close_train.head(),close_train.head(),close_train.iloc[0] ###loc for label based indexing.iloc for positional indexing"
   ]
  },
  {
   "cell_type": "code",
   "execution_count": 14,
   "metadata": {},
   "outputs": [],
   "source": [
    "previousdays = 60"
   ]
  },
  {
   "cell_type": "code",
   "execution_count": 15,
   "metadata": {},
   "outputs": [
    {
     "data": {
      "text/plain": [
       "(1304, 174)"
      ]
     },
     "execution_count": 15,
     "metadata": {},
     "output_type": "execute_result"
    }
   ],
   "source": [
    "scaler = MinMaxScaler(feature_range=(0, 1))\n",
    "scaledclose = scaler.fit_transform(close.values)\n",
    "scaledclosetrain = scaledclose[:len(close_train)]\n",
    "scaledclosetest = scaledclose[len(close_train)-1:]\n",
    "len(scaledclosetrain),len(scaledclosetest)"
   ]
  },
  {
   "cell_type": "code",
   "execution_count": 16,
   "metadata": {},
   "outputs": [],
   "source": [
    "output = open('minmax_encoder.pkl', 'wb')\n",
    "pickle.dump(scaler, output)\n",
    "output.close()"
   ]
  },
  {
   "cell_type": "code",
   "execution_count": 17,
   "metadata": {},
   "outputs": [
    {
     "data": {
      "text/plain": [
       "((1244, 60, 1), (1244, 1))"
      ]
     },
     "execution_count": 17,
     "metadata": {},
     "output_type": "execute_result"
    }
   ],
   "source": [
    "close_train_x = []\n",
    "close_train_y = []\n",
    "for i in range(previousdays,len(close_train)):\n",
    "    close_train_x.append(scaledclosetrain[i-previousdays:i] )\n",
    "    close_train_y.append(scaledclosetrain[i] ) \n",
    "close_train_x = np.array(close_train_x)\n",
    "close_train_y = np.array(close_train_y)\n",
    "close_train_x.shape,close_train_y.shape"
   ]
  },
  {
   "cell_type": "code",
   "execution_count": 18,
   "metadata": {},
   "outputs": [
    {
     "data": {
      "text/plain": [
       "((114, 60, 1), (114, 1))"
      ]
     },
     "execution_count": 18,
     "metadata": {},
     "output_type": "execute_result"
    }
   ],
   "source": [
    "close_test_x = []\n",
    "close_test_y = []\n",
    "for i in range(previousdays,len(close_test)):\n",
    "    close_test_x.append(scaledclosetest[i-previousdays:i])\n",
    "    close_test_y.append(scaledclosetest[i]) \n",
    "close_test_x = np.array(close_test_x)\n",
    "close_test_y = np.array(close_test_y)\n",
    "\n",
    "close_test_x.shape,close_test_y.shape"
   ]
  },
  {
   "cell_type": "code",
   "execution_count": 32,
   "metadata": {},
   "outputs": [
    {
     "name": "stdout",
     "output_type": "stream",
     "text": [
      "_________________________________________________________________\n",
      "Layer (type)                 Output Shape              Param #   \n",
      "=================================================================\n",
      "lstm_3 (LSTM)                (None, 60, 4)             96        \n",
      "_________________________________________________________________\n",
      "lstm_4 (LSTM)                (None, 3)                 96        \n",
      "_________________________________________________________________\n",
      "dense_2 (Dense)              (None, 1)                 4         \n",
      "=================================================================\n",
      "Total params: 196\n",
      "Trainable params: 196\n",
      "Non-trainable params: 0\n",
      "_________________________________________________________________\n"
     ]
    }
   ],
   "source": [
    "model = Sequential()\n",
    "model.add(LSTM(4, return_sequences=True, input_shape=(previousdays,1)))\n",
    "model.add(LSTM(3))\n",
    "model.add(Dense(1)) ### activation linear\n",
    "model.summary()"
   ]
  },
  {
   "cell_type": "code",
   "execution_count": 33,
   "metadata": {},
   "outputs": [],
   "source": [
    "model.compile(optimizer='adam', loss = \"mean_squared_error\")"
   ]
  },
  {
   "cell_type": "code",
   "execution_count": 34,
   "metadata": {
    "scrolled": true
   },
   "outputs": [
    {
     "name": "stdout",
     "output_type": "stream",
     "text": [
      "Epoch 1/50\n",
      "1244/1244 [==============================] - 5s 4ms/step - loss: 0.1970\n",
      "Epoch 2/50\n",
      "1244/1244 [==============================] - 4s 3ms/step - loss: 0.0622\n",
      "Epoch 3/50\n",
      "1244/1244 [==============================] - 4s 3ms/step - loss: 0.0192\n",
      "Epoch 4/50\n",
      "1244/1244 [==============================] - 4s 3ms/step - loss: 0.0148\n",
      "Epoch 5/50\n",
      "1244/1244 [==============================] - 4s 4ms/step - loss: 0.0103\n",
      "Epoch 6/50\n",
      "1244/1244 [==============================] - 4s 4ms/step - loss: 0.0064\n",
      "Epoch 7/50\n",
      "1244/1244 [==============================] - 4s 3ms/step - loss: 0.0044\n",
      "Epoch 8/50\n",
      "1244/1244 [==============================] - 4s 4ms/step - loss: 0.0038\n",
      "Epoch 9/50\n",
      "1244/1244 [==============================] - 4s 3ms/step - loss: 0.0037\n",
      "Epoch 10/50\n",
      "1244/1244 [==============================] - 4s 4ms/step - loss: 0.0035\n",
      "Epoch 11/50\n",
      "1244/1244 [==============================] - 5s 4ms/step - loss: 0.0034\n",
      "Epoch 12/50\n",
      "1244/1244 [==============================] - 5s 4ms/step - loss: 0.0033\n",
      "Epoch 13/50\n",
      "1244/1244 [==============================] - 5s 4ms/step - loss: 0.0031\n",
      "Epoch 14/50\n",
      "1244/1244 [==============================] - 5s 4ms/step - loss: 0.0030\n",
      "Epoch 15/50\n",
      "1244/1244 [==============================] - 5s 4ms/step - loss: 0.0029\n",
      "Epoch 16/50\n",
      "1244/1244 [==============================] - 5s 4ms/step - loss: 0.0029\n",
      "Epoch 17/50\n",
      "1244/1244 [==============================] - 5s 4ms/step - loss: 0.0028\n",
      "Epoch 18/50\n",
      "1244/1244 [==============================] - 5s 4ms/step - loss: 0.0027\n",
      "Epoch 19/50\n",
      "1244/1244 [==============================] - 5s 4ms/step - loss: 0.0027\n",
      "Epoch 20/50\n",
      "1244/1244 [==============================] - 5s 4ms/step - loss: 0.0026\n",
      "Epoch 21/50\n",
      "1244/1244 [==============================] - 5s 4ms/step - loss: 0.0025\n",
      "Epoch 22/50\n",
      "1244/1244 [==============================] - 5s 4ms/step - loss: 0.0024\n",
      "Epoch 23/50\n",
      "1244/1244 [==============================] - 5s 4ms/step - loss: 0.0024\n",
      "Epoch 24/50\n",
      "1244/1244 [==============================] - 5s 4ms/step - loss: 0.0023\n",
      "Epoch 25/50\n",
      "1244/1244 [==============================] - 5s 4ms/step - loss: 0.0023\n",
      "Epoch 26/50\n",
      "1244/1244 [==============================] - 5s 4ms/step - loss: 0.0022\n",
      "Epoch 27/50\n",
      "1244/1244 [==============================] - 5s 4ms/step - loss: 0.0022\n",
      "Epoch 28/50\n",
      "1244/1244 [==============================] - 5s 4ms/step - loss: 0.0021\n",
      "Epoch 29/50\n",
      "1244/1244 [==============================] - 5s 4ms/step - loss: 0.0021\n",
      "Epoch 30/50\n",
      "1244/1244 [==============================] - 5s 4ms/step - loss: 0.0021\n",
      "Epoch 31/50\n",
      "1244/1244 [==============================] - 5s 4ms/step - loss: 0.0020\n",
      "Epoch 32/50\n",
      "1244/1244 [==============================] - 5s 4ms/step - loss: 0.0020\n",
      "Epoch 33/50\n",
      "1244/1244 [==============================] - 5s 4ms/step - loss: 0.0020\n",
      "Epoch 34/50\n",
      "1244/1244 [==============================] - 5s 4ms/step - loss: 0.0020\n",
      "Epoch 35/50\n",
      "1244/1244 [==============================] - 6s 5ms/step - loss: 0.0020\n",
      "Epoch 36/50\n",
      "1244/1244 [==============================] - 5s 4ms/step - loss: 0.0020\n",
      "Epoch 37/50\n",
      "1244/1244 [==============================] - 5s 4ms/step - loss: 0.0019\n",
      "Epoch 38/50\n",
      "1244/1244 [==============================] - 5s 4ms/step - loss: 0.0019\n",
      "Epoch 39/50\n",
      "1244/1244 [==============================] - 5s 4ms/step - loss: 0.0019\n",
      "Epoch 40/50\n",
      "1244/1244 [==============================] - 5s 4ms/step - loss: 0.0018\n",
      "Epoch 41/50\n",
      "1244/1244 [==============================] - 6s 4ms/step - loss: 0.0018\n",
      "Epoch 42/50\n",
      "1244/1244 [==============================] - 5s 4ms/step - loss: 0.0018\n",
      "Epoch 43/50\n",
      "1244/1244 [==============================] - 5s 4ms/step - loss: 0.0018\n",
      "Epoch 44/50\n",
      "1244/1244 [==============================] - 5s 4ms/step - loss: 0.0018\n",
      "Epoch 45/50\n",
      "1244/1244 [==============================] - 6s 4ms/step - loss: 0.0018\n",
      "Epoch 46/50\n",
      "1244/1244 [==============================] - 6s 4ms/step - loss: 0.0018\n",
      "Epoch 47/50\n",
      "1244/1244 [==============================] - 5s 4ms/step - loss: 0.0018\n",
      "Epoch 48/50\n",
      "1244/1244 [==============================] - 6s 4ms/step - loss: 0.0017\n",
      "Epoch 49/50\n",
      "1244/1244 [==============================] - 6s 5ms/step - loss: 0.0017\n",
      "Epoch 50/50\n",
      "1244/1244 [==============================] - 6s 4ms/step - loss: 0.0017\n"
     ]
    },
    {
     "data": {
      "text/plain": [
       "<keras.callbacks.History at 0x12a1f9c50>"
      ]
     },
     "execution_count": 34,
     "metadata": {},
     "output_type": "execute_result"
    }
   ],
   "source": [
    "model.fit(close_train_x,close_train_y,verbose = 1, epochs = 50)"
   ]
  },
  {
   "cell_type": "code",
   "execution_count": 35,
   "metadata": {},
   "outputs": [],
   "source": [
    "model.save('stockprice.hdf5')"
   ]
  },
  {
   "cell_type": "code",
   "execution_count": 36,
   "metadata": {},
   "outputs": [],
   "source": [
    "#model = load_model('stockprice.hdf5')"
   ]
  },
  {
   "cell_type": "code",
   "execution_count": 37,
   "metadata": {},
   "outputs": [],
   "source": [
    "pkl_file = open('minmax_encoder.pkl', 'rb')\n",
    "scaler = pickle.load(pkl_file) \n",
    "pkl_file.close()"
   ]
  },
  {
   "cell_type": "code",
   "execution_count": 38,
   "metadata": {},
   "outputs": [
    {
     "name": "stderr",
     "output_type": "stream",
     "text": [
      "/Library/Frameworks/Python.framework/Versions/3.6/lib/python3.6/site-packages/ipykernel_launcher.py:9: SettingWithCopyWarning: \n",
      "A value is trying to be set on a copy of a slice from a DataFrame.\n",
      "Try using .loc[row_indexer,col_indexer] = value instead\n",
      "\n",
      "See the caveats in the documentation: http://pandas.pydata.org/pandas-docs/stable/indexing.html#indexing-view-versus-copy\n",
      "  if __name__ == '__main__':\n"
     ]
    },
    {
     "data": {
      "text/plain": [
       "(            Close  predtest\n",
       " 2019-03-26   8.45  7.294002\n",
       " 2019-03-27   8.71  7.397194\n",
       " 2019-03-28   8.53  7.526725\n",
       " 2019-03-29   8.50  7.650834\n",
       " 2019-04-01   8.49  7.763891, 114)"
      ]
     },
     "execution_count": 38,
     "metadata": {},
     "output_type": "execute_result"
    }
   ],
   "source": [
    "### Test data predictionn..\n",
    "ypredtest = model.predict(close_test_x)\n",
    "ypredtest = ypredtest.tolist()\n",
    "ypredtest = scaler.inverse_transform(ypredtest)\n",
    "ypredtest = np.array( [elt[0] for elt in ypredtest] )\n",
    "\n",
    "close_test_pred = close_test[previousdays:]\n",
    "assert len(close_test_pred) == len(ypredtest)\n",
    "close_test_pred['predtest'] = ypredtest \n",
    "close_test_pred.head(),len(close_test_pred)"
   ]
  },
  {
   "cell_type": "code",
   "execution_count": 39,
   "metadata": {
    "scrolled": true
   },
   "outputs": [
    {
     "data": {
      "text/plain": [
       "(array([7.29400195, 7.39719358, 7.52672456, 7.65083379, 7.76389107,\n",
       "        7.8642216 , 7.95761353, 8.03800025, 8.11522462, 8.20096795,\n",
       "        8.29397069, 8.3813009 , 8.45029209, 8.50992975, 8.56707759,\n",
       "        8.61398769, 8.65110297, 8.68450305, 8.71838189, 8.749845  ,\n",
       "        8.77611758, 8.80276633, 8.83237713, 8.85969678, 8.88002571,\n",
       "        8.90013643, 8.92231278, 8.93919276, 8.94179413, 8.93647741,\n",
       "        8.92600843, 8.90404133, 8.88063229, 8.83297231, 8.77452582,\n",
       "        8.69792839, 8.60661756, 8.50646859, 8.40445836, 8.30946898,\n",
       "        8.22107054, 8.1283202 , 8.0401074 , 7.95156566, 7.86592898,\n",
       "        7.78576861, 7.70749799, 7.63810215, 7.59394323, 7.5552997 ,\n",
       "        7.52923067, 7.51811847, 7.50793772, 7.49671236, 7.49356141,\n",
       "        7.5011416 , 7.5181315 , 7.53724076, 7.58214711, 7.6349056 ,\n",
       "        7.68777646, 7.73788229, 7.78042746, 7.79892688, 7.79927862,\n",
       "        7.78133204, 7.74631821, 7.69760628, 7.64607723, 7.59765517,\n",
       "        7.55273335, 7.53920949, 7.53461985, 7.53761122, 7.54654543,\n",
       "        7.55667407, 7.56741499, 7.56076461, 7.5485451 , 7.5274777 ,\n",
       "        7.50427138, 7.47367296, 7.43912078, 7.40246227, 7.36339617,\n",
       "        7.32810062, 7.2973247 , 7.27003762, 7.24508322, 7.22119136,\n",
       "        7.1983148 , 7.17493506, 7.1354236 , 7.09210737, 7.0514088 ,\n",
       "        7.01412661, 6.97403055, 6.93608235, 6.89837433, 6.86068423,\n",
       "        6.82706512, 6.79301042, 6.75993438, 6.71589271, 6.67652698,\n",
       "        6.65243564, 6.63008586, 6.61922444, 6.61563871, 6.60766688,\n",
       "        6.59601976, 6.58087484, 6.57420492, 6.56534399]),\n",
       " array([8.44999981, 8.71000004, 8.52999973, 8.5       , 8.48999977,\n",
       "        8.59000015, 8.53999996, 8.68999958, 8.97000027, 9.14999962,\n",
       "        9.10000038, 8.89999962, 8.94999981, 9.06000042, 8.97000027,\n",
       "        8.93000031, 8.98999977, 9.07999992, 9.07999992, 9.03999996,\n",
       "        9.11999989, 9.21000004, 9.18000031, 9.09000015, 9.15999985,\n",
       "        9.22999954, 9.14000034, 8.92000008, 8.88000011, 8.85000038,\n",
       "        8.68000031, 8.72999954, 8.30000019, 8.25      , 7.98999977,\n",
       "        7.82999992, 7.73999977, 7.71999979, 7.78999996, 7.78999996,\n",
       "        7.61000013, 7.63000011, 7.51999998, 7.48999977, 7.48000002,\n",
       "        7.4000001 , 7.44999981, 7.71000004, 7.57000017, 7.67000008,\n",
       "        7.76999998, 7.6500001 , 7.5999999 , 7.71000004, 7.80999994,\n",
       "        7.88000011, 7.8499999 , 8.25      , 8.22000027, 8.19999981,\n",
       "        8.18999958, 8.13000011, 7.84000015, 7.75      , 7.61000013,\n",
       "        7.48000002, 7.38000011, 7.40999985, 7.44999981, 7.44999981,\n",
       "        7.86999989, 7.76999998, 7.80000019, 7.82000017, 7.78999996,\n",
       "        7.78999996, 7.51999998, 7.55000019, 7.44999981, 7.46999979,\n",
       "        7.36000013, 7.32999992, 7.30000019, 7.25      , 7.28999996,\n",
       "        7.30000019, 7.28999996, 7.26999998, 7.23999977, 7.21999979,\n",
       "        7.17999983, 6.92000008, 6.94000006, 6.96999979, 6.96999979,\n",
       "        6.86999989, 6.88000011, 6.82999992, 6.78999996, 6.80999994,\n",
       "        6.73999977, 6.71999979, 6.51999998, 6.61999989, 6.76999998,\n",
       "        6.65999985, 6.78000021, 6.78000021, 6.6500001 , 6.61000013,\n",
       "        6.57000017, 6.69999981, 6.5999999 , 6.82999992]))"
      ]
     },
     "execution_count": 39,
     "metadata": {},
     "output_type": "execute_result"
    }
   ],
   "source": [
    "ypredtest,close_test_pred['Close'].values"
   ]
  },
  {
   "cell_type": "code",
   "execution_count": 40,
   "metadata": {},
   "outputs": [
    {
     "data": {
      "text/plain": [
       "0.42159703160309"
      ]
     },
     "execution_count": 40,
     "metadata": {},
     "output_type": "execute_result"
    }
   ],
   "source": [
    "rms=np.sqrt(np.mean(np.power((close_test_pred['Close'].values  - ypredtest),2)))\n",
    "rms"
   ]
  },
  {
   "cell_type": "code",
   "execution_count": 41,
   "metadata": {},
   "outputs": [
    {
     "name": "stderr",
     "output_type": "stream",
     "text": [
      "/Library/Frameworks/Python.framework/Versions/3.6/lib/python3.6/site-packages/ipykernel_launcher.py:9: SettingWithCopyWarning: \n",
      "A value is trying to be set on a copy of a slice from a DataFrame.\n",
      "Try using .loc[row_indexer,col_indexer] = value instead\n",
      "\n",
      "See the caveats in the documentation: http://pandas.pydata.org/pandas-docs/stable/indexing.html#indexing-view-versus-copy\n",
      "  if __name__ == '__main__':\n"
     ]
    },
    {
     "data": {
      "text/plain": [
       "(            Close  predtrain\n",
       " 2014-03-27   3.15   3.178657\n",
       " 2014-03-28   3.14   3.182911\n",
       " 2014-03-31   3.13   3.189172\n",
       " 2014-04-01   3.20   3.195866\n",
       " 2014-04-02   3.10   3.205328, 1244)"
      ]
     },
     "execution_count": 41,
     "metadata": {},
     "output_type": "execute_result"
    }
   ],
   "source": [
    "### Train data predictionn..\n",
    "ypredtrain = model.predict(close_train_x)\n",
    "ypredtrain = ypredtrain.tolist()\n",
    "ypredtrain = scaler.inverse_transform(ypredtrain)\n",
    "ypredtrain= np.array( [elt[0] for elt in ypredtrain] )\n",
    "\n",
    "close_train_pred = close_train[previousdays:]\n",
    "assert len(close_train_pred) == len(ypredtrain)\n",
    "close_train_pred['predtrain'] = ypredtrain\n",
    "close_train_pred.head(),len(close_train_pred)"
   ]
  },
  {
   "cell_type": "code",
   "execution_count": 42,
   "metadata": {},
   "outputs": [
    {
     "data": {
      "text/plain": [
       "(array([3.17865744, 3.18291076, 3.1891717 , ..., 5.86184722, 5.82011625,\n",
       "        5.81105156]),\n",
       " array([3.1500001 , 3.1400001 , 3.13000011, ..., 5.82000017, 6.11000013,\n",
       "        6.11000013]))"
      ]
     },
     "execution_count": 42,
     "metadata": {},
     "output_type": "execute_result"
    }
   ],
   "source": [
    "ypredtrain, close_train_pred['Close'].values"
   ]
  },
  {
   "cell_type": "code",
   "execution_count": 43,
   "metadata": {},
   "outputs": [
    {
     "data": {
      "text/plain": [
       "0.28287778048695394"
      ]
     },
     "execution_count": 43,
     "metadata": {},
     "output_type": "execute_result"
    }
   ],
   "source": [
    "rms=np.sqrt(np.mean(np.power((close_train_pred['Close'].values - ypredtrain),2)))\n",
    "rms"
   ]
  },
  {
   "cell_type": "code",
   "execution_count": 44,
   "metadata": {
    "scrolled": true
   },
   "outputs": [
    {
     "data": {
      "image/png": "[encoded data removed]",
      "text/plain": [
       "<Figure size 1440x720 with 1 Axes>"
      ]
     },
     "metadata": {},
     "output_type": "display_data"
    }
   ],
   "source": [
    "plt.figure(figsize=(20,10))\n",
    "plt.plot(close_train_pred[['predtrain']],c='r',label='trainpredicted')\n",
    "plt.plot(close_test_pred[['predtest']],c ='b',label ='testpredicted')\n",
    "plt.plot(close_train ,c = 'c',label = 'actual')\n",
    "plt.plot(close_test ,c ='c')\n",
    "plt.xlabel('Date')\n",
    "plt.ylabel('Close')\n",
    "plt.legend(loc='upper left')\n",
    "plt.savefig('stockprediction.png')"
   ]
  },
  {
   "cell_type": "code",
   "execution_count": null,
   "metadata": {},
   "outputs": [],
   "source": []
  }
 ],
 "metadata": {
  "kernelspec": {
   "display_name": "Python 3",
   "language": "python",
   "name": "python3"
  },
  "language_info": {
   "codemirror_mode": {
    "name": "ipython",
    "version": 3
   },
   "file_extension": ".py",
   "mimetype": "text/x-python",
   "name": "python",
   "nbconvert_exporter": "python",
   "pygments_lexer": "ipython3",
   "version": "3.6.5"
  }
 },
 "nbformat": 4,
 "nbformat_minor": 2
}
